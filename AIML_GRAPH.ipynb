{
  "nbformat": 4,
  "nbformat_minor": 0,
  "metadata": {
    "colab": {
      "provenance": [],
      "authorship_tag": "ABX9TyO9vSzzxJUcBqBrtnOsEV40",
      "include_colab_link": true
    },
    "kernelspec": {
      "name": "python3",
      "display_name": "Python 3"
    },
    "language_info": {
      "name": "python"
    }
  },
  "cells": [
    {
      "cell_type": "markdown",
      "metadata": {
        "id": "view-in-github",
        "colab_type": "text"
      },
      "source": [
        "<a href=\"https://colab.research.google.com/github/gutamgiridharreddy/python/blob/main/AIML_GRAPH.ipynb\" target=\"_parent\"><img src=\"https://colab.research.google.com/assets/colab-badge.svg\" alt=\"Open In Colab\"/></a>"
      ]
    },
    {
      "cell_type": "code",
      "execution_count": 1,
      "metadata": {
        "colab": {
          "base_uri": "https://localhost:8080/"
        },
        "id": "2-cowCdv8Zmx",
        "outputId": "9d638923-35ff-43bc-ec54-77cfd098d93a"
      },
      "outputs": [
        {
          "output_type": "stream",
          "name": "stdout",
          "text": [
            "BFS traversal of graph with source 1 is:\n",
            "1 ->  0 ->  2 ->  3 ->  5 ->  4 ->  6 ->  7 ->  "
          ]
        }
      ],
      "source": [
        "from queue import Queue\n",
        "\n",
        "graph = {\n",
        "    0:[1,2,3],\n",
        "    1: [0,2],\n",
        "    2: [1,3,5],\n",
        "    3: [0,2,4],\n",
        "    4: [2,5,7],\n",
        "    5: [2,4,6,7],\n",
        "    6: [5,7],\n",
        "    7:[]\n",
        "}\n",
        "\n",
        "def bfs(graph, source):\n",
        "    Q = Queue()\n",
        "    visited_vertices = set()\n",
        "    Q.put(source)\n",
        "    visited_vertices.add(source)\n",
        "\n",
        "    while not Q.empty():\n",
        "        vertex = Q.get()\n",
        "        print(f\"{vertex} -> \", end=' ')\n",
        "        for u in graph[vertex]:\n",
        "            if u not in visited_vertices:\n",
        "                Q.put(u)\n",
        "                visited_vertices.add(u)\n",
        "\n",
        "print(\"BFS traversal of graph with source 1 is:\")\n",
        "bfs(graph, 1)"
      ]
    },
    {
      "cell_type": "code",
      "source": [
        "graph1={\n",
        "    'A':['B','S'],\n",
        "    'B':['A'],\n",
        "    'S':['A','C','G'],\n",
        "    'G':['S','F','H'],\n",
        "    'H':['G','E'],\n",
        "    'E':['D','H','F'],\n",
        "    'F':['C','G'],\n",
        "    'C':['S','E','D'],\n",
        "    'D':['C']\n",
        "}\n",
        "def dfs(graph,node,visited):\n",
        "  if node not in visited:\n",
        "    visited.append(node)\n",
        "    for k in graph[node]:\n",
        "      dfs(graph,k,visited)\n",
        "  return visited\n",
        "visited=dfs(graph1,'B',[])\n",
        "print(visited)"
      ],
      "metadata": {
        "colab": {
          "base_uri": "https://localhost:8080/"
        },
        "id": "WVeD0rEF8i3H",
        "outputId": "f554b741-a2a7-41fe-fd48-2552cce7fa98"
      },
      "execution_count": 2,
      "outputs": [
        {
          "output_type": "stream",
          "name": "stdout",
          "text": [
            "['B', 'A', 'S', 'C', 'E', 'D', 'H', 'G', 'F']\n"
          ]
        }
      ]
    }
  ]
}